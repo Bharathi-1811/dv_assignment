{
  "nbformat": 4,
  "nbformat_minor": 0,
  "metadata": {
    "colab": {
      "provenance": [],
      "authorship_tag": "ABX9TyOdHf1kgKXVKfR7cG2jxrpm",
      "include_colab_link": true
    },
    "kernelspec": {
      "name": "python3",
      "display_name": "Python 3"
    },
    "language_info": {
      "name": "python"
    }
  },
  "cells": [
    {
      "cell_type": "markdown",
      "metadata": {
        "id": "view-in-github",
        "colab_type": "text"
      },
      "source": [
        "<a href=\"https://colab.research.google.com/github/Bharathi-1811/dv_assignment/blob/main/Assignment3_Bharathi_Leela.ipynb\" target=\"_parent\"><img src=\"https://colab.research.google.com/assets/colab-badge.svg\" alt=\"Open In Colab\"/></a>"
      ]
    },
    {
      "cell_type": "markdown",
      "source": [
        "EXERCISES:\n",
        "\n",
        "Answer the questions or complete the tasks outlined in bold below, use the specific method described if\n",
        "applicable.\n",
        "\n",
        "What is 7 to the power of 4?\n"
      ],
      "metadata": {
        "id": "s7sJEjRs7M9z"
      }
    },
    {
      "cell_type": "code",
      "execution_count": 1,
      "metadata": {
        "colab": {
          "base_uri": "https://localhost:8080/"
        },
        "id": "uOl16ku27EDh",
        "outputId": "3dbb8a0e-255a-4278-d245-e83178baaa18"
      },
      "outputs": [
        {
          "output_type": "stream",
          "name": "stdout",
          "text": [
            "2401\n"
          ]
        }
      ],
      "source": [
        "print(7**4)\n"
      ]
    },
    {
      "cell_type": "markdown",
      "source": [
        "Split this string:"
      ],
      "metadata": {
        "id": "bJtujtLO7ap_"
      }
    },
    {
      "cell_type": "code",
      "source": [
        "s = \"Hi there Sam!\"\n"
      ],
      "metadata": {
        "id": "PXawuhdB7bBb"
      },
      "execution_count": 2,
      "outputs": []
    },
    {
      "cell_type": "markdown",
      "source": [
        "into a list.\n"
      ],
      "metadata": {
        "id": "Nmy4P_Co7h6R"
      }
    },
    {
      "cell_type": "code",
      "source": [
        "s = \"Hi there Sam!\""
      ],
      "metadata": {
        "id": "v07kjawd7iIT"
      },
      "execution_count": 3,
      "outputs": []
    },
    {
      "cell_type": "code",
      "source": [
        "print(s.split())\n"
      ],
      "metadata": {
        "colab": {
          "base_uri": "https://localhost:8080/"
        },
        "id": "yA-yl0u87nGQ",
        "outputId": "06ec6f7b-cb6e-4015-aecf-e6f7bc4c6138"
      },
      "execution_count": 4,
      "outputs": [
        {
          "output_type": "stream",
          "name": "stdout",
          "text": [
            "['Hi', 'there', 'Sam!']\n"
          ]
        }
      ]
    },
    {
      "cell_type": "markdown",
      "source": [
        "Given the variables:\n"
      ],
      "metadata": {
        "id": "8zl-GpwU7t-g"
      }
    },
    {
      "cell_type": "code",
      "source": [
        "planet = \"Earth\"\n",
        "diameter = 12742\n"
      ],
      "metadata": {
        "id": "FPjMVEzI7u8i"
      },
      "execution_count": 5,
      "outputs": []
    },
    {
      "cell_type": "markdown",
      "source": [
        "Use .format() to print the following string:\n",
        "\n",
        "The diameter of Earth is 12742 kilometers."
      ],
      "metadata": {
        "id": "JrvtQm2x70fs"
      }
    },
    {
      "cell_type": "code",
      "source": [
        "planet = \"Earth\"\n",
        "diameter = 12742\n"
      ],
      "metadata": {
        "id": "hQS_wWwe7xt1"
      },
      "execution_count": 6,
      "outputs": []
    },
    {
      "cell_type": "code",
      "source": [
        "print(\"The diameter of {planet} is {diameter} kilometers.\".format(planet=planet,diameter=diameter))\n"
      ],
      "metadata": {
        "colab": {
          "base_uri": "https://localhost:8080/"
        },
        "id": "tzDx0Wj-7_Zi",
        "outputId": "d39bc04e-88e2-4e20-a243-d6e0ebe95417"
      },
      "execution_count": 8,
      "outputs": [
        {
          "output_type": "stream",
          "name": "stdout",
          "text": [
            "The diameter of Earth is 12742 kilometers.\n"
          ]
        }
      ]
    },
    {
      "cell_type": "markdown",
      "source": [
        "Given this nested list, use indexing to grab the word \"hello\""
      ],
      "metadata": {
        "id": "kpcOrr7E8FhJ"
      }
    },
    {
      "cell_type": "code",
      "source": [
        "lst = [1,2,[3,4],[5,[100,200,['hello']],23,11],1,7]\n"
      ],
      "metadata": {
        "id": "7s_rRArK8Fv_"
      },
      "execution_count": 9,
      "outputs": []
    },
    {
      "cell_type": "code",
      "source": [
        "print(lst[3][1][2])"
      ],
      "metadata": {
        "colab": {
          "base_uri": "https://localhost:8080/"
        },
        "id": "0PT8V63K8Nzg",
        "outputId": "4efa862d-2cad-4b33-d66d-2b935fc81bba"
      },
      "execution_count": 10,
      "outputs": [
        {
          "output_type": "stream",
          "name": "stdout",
          "text": [
            "['hello']\n"
          ]
        }
      ]
    },
    {
      "cell_type": "markdown",
      "source": [
        "Given this nest dictionary grab the word \"hello\". Be prepared, this will be annoying/tricky"
      ],
      "metadata": {
        "id": "uTAWsoLe8PZl"
      }
    },
    {
      "cell_type": "code",
      "source": [
        "d = {'k1':[1,2,3,{'tricky':['oh','man','inception',{'target':[1,2,3,'hello']}]}]}\n"
      ],
      "metadata": {
        "id": "AD_J-AbI8WNP"
      },
      "execution_count": 11,
      "outputs": []
    },
    {
      "cell_type": "code",
      "source": [
        "print(d[\"k1\"][3][\"tricky\"][3]['target'][3])\n"
      ],
      "metadata": {
        "colab": {
          "base_uri": "https://localhost:8080/"
        },
        "id": "qNETad9V8Z2T",
        "outputId": "56c47eb7-1392-4059-feb0-b24bb6487c2e"
      },
      "execution_count": 12,
      "outputs": [
        {
          "output_type": "stream",
          "name": "stdout",
          "text": [
            "hello\n"
          ]
        }
      ]
    },
    {
      "cell_type": "markdown",
      "source": [
        "What is the main difference between a tuple and a list?"
      ],
      "metadata": {
        "id": "296qWcZG8guF"
      }
    },
    {
      "cell_type": "code",
      "source": [
        "The list is mutable, whereas the tuple in immutable"
      ],
      "metadata": {
        "id": "Ni-dhmAa8kH9"
      },
      "execution_count": null,
      "outputs": []
    },
    {
      "cell_type": "markdown",
      "source": [
        "Create a function that grabs the email website domain from a string in the form:"
      ],
      "metadata": {
        "id": "hXoy_HIk8q6D"
      }
    },
    {
      "cell_type": "code",
      "source": [
        "user@domain.com"
      ],
      "metadata": {
        "id": "iCCT51Hm8fSK"
      },
      "execution_count": null,
      "outputs": []
    },
    {
      "cell_type": "markdown",
      "source": [
        "So for example, passing \"user@domain.com\" would return: domain.com"
      ],
      "metadata": {
        "id": "DevxEXIz8xlF"
      }
    },
    {
      "cell_type": "code",
      "source": [
        "def domain(email):\n",
        " return email.split('@')[-1]\n",
        "domain(\"user@domain.com\")\n"
      ],
      "metadata": {
        "colab": {
          "base_uri": "https://localhost:8080/",
          "height": 36
        },
        "id": "x8kl7yOl82xC",
        "outputId": "abe9ed40-be37-4dda-d445-45a68a63c2ce"
      },
      "execution_count": 13,
      "outputs": [
        {
          "output_type": "execute_result",
          "data": {
            "text/plain": [
              "'domain.com'"
            ],
            "application/vnd.google.colaboratory.intrinsic+json": {
              "type": "string"
            }
          },
          "metadata": {},
          "execution_count": 13
        }
      ]
    },
    {
      "cell_type": "markdown",
      "source": [],
      "metadata": {
        "id": "qoCnWUk785Xr"
      }
    },
    {
      "cell_type": "markdown",
      "source": [
        "Create a basic function that returns True if the word 'dog' is contained in the input string. Don't worry\n",
        "about edge cases like a punctuation being attached to the word dog, but do account for\n",
        "capitalization.\n"
      ],
      "metadata": {
        "id": "R3Q9OXTf85h0"
      }
    },
    {
      "cell_type": "code",
      "source": [
        "def check(word):\n",
        " for i in word.split():\n",
        "  if i == \"cat\":\n",
        "    return True\n",
        " return False\n",
        "check(\"I love my cat\")\n"
      ],
      "metadata": {
        "colab": {
          "base_uri": "https://localhost:8080/"
        },
        "id": "gFJaO3KZ875n",
        "outputId": "8a93e500-e536-4477-b076-06a58cb1d407"
      },
      "execution_count": 16,
      "outputs": [
        {
          "output_type": "execute_result",
          "data": {
            "text/plain": [
              "True"
            ]
          },
          "metadata": {},
          "execution_count": 16
        }
      ]
    },
    {
      "cell_type": "markdown",
      "source": [],
      "metadata": {
        "id": "PADwAiDK9MdM"
      }
    },
    {
      "cell_type": "markdown",
      "source": [
        "Create a function that counts the number of times the word \"dog\" occurs in a string. Again ignore\n",
        "edge cases.\n"
      ],
      "metadata": {
        "id": "hNbA_3RQ9Mqa"
      }
    },
    {
      "cell_type": "code",
      "source": [
        "def wordCount(word):\n",
        " count = 0\n",
        " for i in word.split():\n",
        "    if i == 'dog':\n",
        "      count += 1\n",
        " print(\"Dog repeated \"+str(count)+\" times\")"
      ],
      "metadata": {
        "id": "yh1CLYCH9PtN"
      },
      "execution_count": 17,
      "outputs": []
    },
    {
      "cell_type": "code",
      "source": [
        "wordCount(\"dog dog dog cat lion Dog DOG\")\n"
      ],
      "metadata": {
        "colab": {
          "base_uri": "https://localhost:8080/"
        },
        "id": "NTUCx1st9afg",
        "outputId": "c74fa57d-522a-42ae-87d8-e94fdf234a05"
      },
      "execution_count": 18,
      "outputs": [
        {
          "output_type": "stream",
          "name": "stdout",
          "text": [
            "Dog repeated 3 times\n"
          ]
        }
      ]
    },
    {
      "cell_type": "markdown",
      "source": [
        "Problem:\n",
        "\n",
        "You are driving a little too fast, and a police officer stops you. Write a function to return one of 3\n",
        "possible results: \"No ticket\", \"Small ticket\", or \"Big Ticket\". If your speed is 60 or less, the result is\n",
        "\"No Ticket\". If speed is between 61 and 80 inclusive, the result is \"Small Ticket\". If speed is 81 or\n",
        "more, the result is \"Big Ticket\". Unless it is your birthday (encoded as a boolean value in the\n",
        "parameters of the function) -- on your birthday, your speed can be 5 higher in all cases.\n"
      ],
      "metadata": {
        "id": "Dve_Ohcz9d_t"
      }
    },
    {
      "cell_type": "code",
      "source": [
        "def caught_speeding(speed, is_birthday):\n",
        "\n",
        " if is_birthday:\n",
        "  speeding = speed - 5\n",
        " else:\n",
        "  speeding = speed\n",
        "\n",
        " if speeding > 80:\n",
        "  return 'Big Ticket'\n",
        " elif speeding > 60:\n",
        "  return 'Small Ticket'\n",
        " else:\n",
        "  return 'No Ticket'"
      ],
      "metadata": {
        "id": "LsIpTcCI9gnI"
      },
      "execution_count": 20,
      "outputs": []
    },
    {
      "cell_type": "code",
      "source": [
        "caught_speeding(87,False)\n"
      ],
      "metadata": {
        "colab": {
          "base_uri": "https://localhost:8080/",
          "height": 36
        },
        "id": "zBzucny_9oJa",
        "outputId": "22d76bf3-5cd9-4eaf-c2b0-e96ef05e2456"
      },
      "execution_count": 21,
      "outputs": [
        {
          "output_type": "execute_result",
          "data": {
            "text/plain": [
              "'Big Ticket'"
            ],
            "application/vnd.google.colaboratory.intrinsic+json": {
              "type": "string"
            }
          },
          "metadata": {},
          "execution_count": 21
        }
      ]
    },
    {
      "cell_type": "code",
      "source": [
        "caught_speeding(65,False)"
      ],
      "metadata": {
        "colab": {
          "base_uri": "https://localhost:8080/",
          "height": 36
        },
        "id": "kQNBUFC99oMC",
        "outputId": "ec659683-261b-435c-c384-0d3f76473aff"
      },
      "execution_count": 22,
      "outputs": [
        {
          "output_type": "execute_result",
          "data": {
            "text/plain": [
              "'Small Ticket'"
            ],
            "application/vnd.google.colaboratory.intrinsic+json": {
              "type": "string"
            }
          },
          "metadata": {},
          "execution_count": 22
        }
      ]
    },
    {
      "cell_type": "markdown",
      "source": [
        "Create an employee list with basic salary values(at least 5 values for 5 employees) and using a for loop\n",
        "retreive each employee salary and calculate total salary expenditure.\n"
      ],
      "metadata": {
        "id": "3i2LtsXR9spW"
      }
    },
    {
      "cell_type": "code",
      "source": [
        "e = [[\"emp1\",[1325,4975,8660,6037,8308]],[\"emp2\",[5678,5847,3375,3415,6640]],[\"emp3\",[1806,5144,8340,1253,6667]],[\"emp4\",[8381,7678,8599,3629,9345]],[\"emp5\",[7066,1307,3023,6295,2046]]]\n"
      ],
      "metadata": {
        "id": "jS4RZUeS9oPe"
      },
      "execution_count": 25,
      "outputs": []
    },
    {
      "cell_type": "code",
      "source": [
        "total = 0\n",
        "for i in range(len(e)):\n",
        " for j in e[i][1]:\n",
        "  total += j\n",
        " print(str(e[i][0])+\" earns \"+str(total))\n"
      ],
      "metadata": {
        "colab": {
          "base_uri": "https://localhost:8080/"
        },
        "id": "ZSfJql3o95MF",
        "outputId": "fd5623eb-5d89-4116-a2ee-012028361f5b"
      },
      "execution_count": 27,
      "outputs": [
        {
          "output_type": "stream",
          "name": "stdout",
          "text": [
            "emp1 earns 29305\n",
            "emp2 earns 54260\n",
            "emp3 earns 77470\n",
            "emp4 earns 115102\n",
            "emp5 earns 134839\n"
          ]
        }
      ]
    },
    {
      "cell_type": "code",
      "source": [
        "print(e)"
      ],
      "metadata": {
        "colab": {
          "base_uri": "https://localhost:8080/"
        },
        "id": "SeOwfSWE-Bnh",
        "outputId": "f5a47590-21dc-47d7-cec4-58b1ad6c02dc"
      },
      "execution_count": 29,
      "outputs": [
        {
          "output_type": "stream",
          "name": "stdout",
          "text": [
            "[['emp1', [1325, 4975, 8660, 6037, 8308]], ['emp2', [5678, 5847, 3375, 3415, 6640]], ['emp3', [1806, 5144, 8340, 1253, 6667]], ['emp4', [8381, 7678, 8599, 3629, 9345]], ['emp5', [7066, 1307, 3023, 6295, 2046]]]\n"
          ]
        }
      ]
    },
    {
      "cell_type": "markdown",
      "source": [
        "Create two dictionaries in Python:\n",
        "First one to contain fields as Empid, Empname, Basicpay\n",
        "Second dictionary to contain fields as DeptName, DeptId.\n",
        "Combine both dictionaries"
      ],
      "metadata": {
        "id": "1_CUCU1S-LVS"
      }
    },
    {
      "cell_type": "code",
      "source": [
        "dic1 = {\"Empid\": 123, \"Empname\": \"BHARATHI\", \"Basicpay\": 8500}\n",
        "dic2 = {\"DeptName\": \"IT\", \"Deptid\": 1562}\n",
        "dic3 = {**dic1, **dic2}\n",
        "print(dic3)"
      ],
      "metadata": {
        "colab": {
          "base_uri": "https://localhost:8080/"
        },
        "id": "1emDBfXc-IP7",
        "outputId": "e41fc412-92e5-4169-87c9-de68e904758b"
      },
      "execution_count": 30,
      "outputs": [
        {
          "output_type": "stream",
          "name": "stdout",
          "text": [
            "{'Empid': 123, 'Empname': 'BHARATHI', 'Basicpay': 8500, 'DeptName': 'IT', 'Deptid': 1562}\n"
          ]
        }
      ]
    }
  ]
}